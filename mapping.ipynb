{
 "cells": [
  {
   "cell_type": "code",
   "execution_count": 1,
   "metadata": {},
   "outputs": [],
   "source": [
    "import csv, json"
   ]
  },
  {
   "cell_type": "code",
   "execution_count": 2,
   "metadata": {},
   "outputs": [],
   "source": [
    "with open('sample_data/wine-ratings-small.csv', 'r', encoding=\"UTF-8\") as f:\n",
    "    creader = csv.reader(f)\n",
    "    out = []\n",
    "    keys = next(creader)\n",
    "    for line in creader:\n",
    "        temp = dict()\n",
    "        for i in range(len(keys)):\n",
    "            temp[keys[i]] = line[i]\n",
    "        out.append(temp)\n",
    "        \n",
    "with open('sample_data/wine-ratings-small.json', 'w', encoding=\"UTF-8\") as f:\n",
    "    json.dump(out, f, indent=4)\n"
   ]
  },
  {
   "cell_type": "code",
   "execution_count": 3,
   "metadata": {},
   "outputs": [],
   "source": [
    "def csv2jison(filename):\n",
    "\n",
    "    with open(filename, 'r', encoding=\"UTF-8\") as f:\n",
    "        creader = csv.reader(f)\n",
    "        out = []\n",
    "        keys = next(creader)\n",
    "        for line in creader:\n",
    "            temp = dict()\n",
    "            for i in range(len(keys)):\n",
    "                temp[keys[i]] = line[i]\n",
    "            out.append(temp)\n",
    "    \n",
    "    filename = filename[:-3] + 'json'\n",
    "            \n",
    "    with open(filename, 'w', encoding=\"UTF-8\") as f:\n",
    "        json.dump(out, f, indent=4)\n",
    "\n",
    "\n",
    "csv2jison('sample_data/wine-ratings-small.csv')"
   ]
  },
  {
   "cell_type": "code",
   "execution_count": 4,
   "metadata": {},
   "outputs": [],
   "source": [
    "def csv2jison_dway(filename):\n",
    "\n",
    "    with open(filename, 'r', encoding=\"UTF-8\") as f:\n",
    "        creader = csv.DictReader(f)\n",
    "        out = []\n",
    "        keys = next(creader)\n",
    "        for line in creader:\n",
    "            out.append(dict(line))\n",
    "    \n",
    "    filename = filename[:-3] + 'json'\n",
    "            \n",
    "    with open(filename, 'w', encoding=\"UTF-8\") as f:\n",
    "        json.dump(out, f, indent=4)\n",
    "\n",
    "\n",
    "csv2jison_dway('sample_data/wine-ratings-small.csv')"
   ]
  }
 ],
 "metadata": {
  "interpreter": {
   "hash": "238cae2cb336c5b6f1f4ebc24b4931674c1426f53fdf6dab22fdb87a7e53ebb4"
  },
  "kernelspec": {
   "display_name": "Python 3.7.7 64-bit",
   "language": "python",
   "name": "python3"
  },
  "language_info": {
   "codemirror_mode": {
    "name": "ipython",
    "version": 3
   },
   "file_extension": ".py",
   "mimetype": "text/x-python",
   "name": "python",
   "nbconvert_exporter": "python",
   "pygments_lexer": "ipython3",
   "version": "3.7.7"
  },
  "orig_nbformat": 4
 },
 "nbformat": 4,
 "nbformat_minor": 2
}
